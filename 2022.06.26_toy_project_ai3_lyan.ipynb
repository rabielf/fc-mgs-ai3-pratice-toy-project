{
 "cells": [
  {
   "cell_type": "markdown",
   "id": "9a1fc740",
   "metadata": {},
   "source": [
    "# 인기 급상승 유튜버 랭크 요인 분석\n",
    "> 인플루언서 랭킹 사이트 크롤링\n",
    "\n",
    "1. 유튜버 순위 정보 크롤링 --> Done\n",
    "    * 녹스인플루언서에서 '인기 급상승 순위' 크롤링\n",
    "        * URL : https://kr.noxinfluencer.com/youtube-channel-rank/top-100-all-all-youtuber-sorted-by-growth-weekly\n",
    "    * 유튜브 카테고리를 변경하면서 카테고리별 순위 페이지에서 유튜버 개별 페이지 URL을 크롤링.\n",
    "    * 유튜버 개별 페이지 크롤링으로 전달\n",
    "\n",
    "\n",
    "2. 유튜버 개별 페이지 크롤링  --> Done\n",
    "    * 녹스인플루언서 개별 페이지에서 '30일간 유튜브 통계', '유튜버 채널 정보', 유튜브 채널 페이지에서 설명 크롤링\n",
    "    * URL : https://kr.noxinfluencer.com/ + 유튜버 채널 URL --> 녹스인플루언서 개별 페이지\n",
    "    * URL : https://www.youtube.com/ + 유튜버 채널 URL + '/about' --> 유튜브 채널 > 정보 페이지에서 채널 설명 크롤링\n",
    "    * 크롤링 한 정보를 데이터프레임으로 가공\n",
    "\n",
    "\n",
    "3. Concat 한 DataFrame 탐색 --> 진행중\n",
    "    * 인기 급상승 유튜버 30일 평균 동영상 업로드 수\n",
    "    * 랭크된 유튜버의 30일간 구독자 증감율\n"
   ]
  },
  {
   "cell_type": "code",
   "execution_count": 345,
   "id": "8b404f1c",
   "metadata": {
    "ExecuteTime": {
     "end_time": "2022-06-26T18:04:14.092012Z",
     "start_time": "2022-06-26T18:04:14.068080Z"
    }
   },
   "outputs": [],
   "source": [
    "# Basci pakage import\n",
    "\n",
    "import time\n",
    "import json\n",
    "import urllib\n",
    "import requests\n",
    "import numpy as np\n",
    "import pandas as pd\n",
    "import matplotlib.pyplot as plt\n",
    "import seaborn as sns\n",
    "\n",
    "# Selenium import\n",
    "\n",
    "from selenium import webdriver\n",
    "from selenium.webdriver.common.keys import Keys\n",
    "from selenium.webdriver.chrome.service import Service\n",
    "from webdriver_manager.chrome import ChromeDriverManager\n",
    "\n",
    "import warnings\n",
    "warnings.filterwarnings(action='ignore')\n",
    "\n",
    "# BeautifulSoup import\n",
    "\n",
    "from bs4 import BeautifulSoup"
   ]
  },
  {
   "cell_type": "code",
   "execution_count": 348,
   "id": "ef686f25",
   "metadata": {
    "ExecuteTime": {
     "end_time": "2022-06-26T18:04:14.138886Z",
     "start_time": "2022-06-26T18:04:14.128914Z"
    },
    "scrolled": true
   },
   "outputs": [],
   "source": [
    "# 크롬 드라이버 객체 생성 함수\n",
    "\n",
    "def set_chrome_driver():\n",
    "    chrome_options = webdriver.ChromeOptions()\n",
    "    driver = webdriver.Chrome(service=Service(ChromeDriverManager().install()), options=chrome_options)\n",
    "    return driver"
   ]
  },
  {
   "cell_type": "code",
   "execution_count": 346,
   "id": "5a7e49b0",
   "metadata": {
    "ExecuteTime": {
     "end_time": "2022-06-26T18:04:14.107970Z",
     "start_time": "2022-06-26T18:04:14.097006Z"
    }
   },
   "outputs": [],
   "source": [
    "# 셀레니움 설치\n",
    "# !pip install selenium --trusted-host pypi.org --trusted-host files.pythonhosted.org"
   ]
  },
  {
   "cell_type": "code",
   "execution_count": 347,
   "id": "77bb6b59",
   "metadata": {
    "ExecuteTime": {
     "end_time": "2022-06-26T18:04:14.122928Z",
     "start_time": "2022-06-26T18:04:14.111960Z"
    }
   },
   "outputs": [],
   "source": [
    "# 크롬드라이버 관리 툴 설치\n",
    "# !pip install webdriver-manager --trusted-host pypi.org --trusted-host files.pythonhosted.org"
   ]
  },
  {
   "cell_type": "markdown",
   "id": "44604243",
   "metadata": {},
   "source": [
    "## 순위에 랭크된 유튜버 개별 페이지 URL 가져오기 --> Done\n",
    "- 교육 : https://kr.noxinfluencer.com/youtube-channel-rank/top-100-kr-education-youtuber-sorted-by-growth-weekly\n",
    "- 노하우 스타일 : https://kr.noxinfluencer.com/youtube-channel-rank/top-100-kr-howto%20%26%20style-youtuber-sorted-by-growth-weekly\n",
    "- 스포츠 : https://kr.noxinfluencer.com/youtube-channel-rank/top-100-kr-sports-youtuber-sorted-by-growth-weekly\n",
    "- 여행 이벤트 : https://kr.noxinfluencer.com/youtube-channel-rank/top-100-kr-travel%20%26%20events-youtuber-sorted-by-growth-weekly\n",
    "- 과학 기술 : https://kr.noxinfluencer.com/youtube-channel-rank/top-100-kr-science%20%26%20technology-youtuber-sorted-by-growth-weekly\n",
    "- 영화 애니메이션 : https://kr.noxinfluencer.com/youtube-channel-rank/top-100-kr-film%20%26%20animation-youtuber-sorted-by-growth-weekly\n",
    "- 엔터테인먼트 : https://kr.noxinfluencer.com/youtube-channel-rank/top-100-kr-entertainment-youtuber-sorted-by-growth-weekly\n",
    "- 음악 : https://kr.noxinfluencer.com/youtube-channel-rank/top-100-kr-music-youtuber-sorted-by-growth-weekly\n",
    "- 인물 블로그 : https://kr.noxinfluencer.com/youtube-channel-rank/top-100-kr-people%20%26%20blogs-youtuber-sorted-by-growth-weekly\n",
    "- 동물 : https://kr.noxinfluencer.com/youtube-channel-rank/top-100-kr-pets%20%26%20animals-youtuber-sorted-by-growth-weekly\n",
    "- 자동차 : https://kr.noxinfluencer.com/youtube-channel-rank/top-100-kr-autos%20%26%20vehicles-youtuber-sorted-by-growth-weekly\n",
    "- 게임 : https://kr.noxinfluencer.com/youtube-channel-rank/top-100-kr-gaming-youtuber-sorted-by-growth-weekly\n",
    "- 코미디 : https://kr.noxinfluencer.com/youtube-channel-rank/top-100-kr-comedy-youtuber-sorted-by-growth-weekly\n",
    "- 뉴스 정치 : https://kr.noxinfluencer.com/youtube-channel-rank/top-100-kr-news%20%26%20politics-youtuber-sorted-by-growth-weekly\n",
    "- 봉사활동 : https://kr.noxinfluencer.com/youtube-channel-rank/top-100-kr-nonprofits%20%26%20activism-youtuber-sorted-by-growth-weekly\n",
    "\n",
    "1) 녹스인플루언서 사이트에서 '인기 급상승 순위' 카테고리 선택한다. --> Done\n",
    "\n",
    "    - 카테고리 선택 --> 1: 교육, 2: 노하우 스타일, 3: 스포츠, 4: 여행 이벤트, 5: 과학 기술, 6: 영화 애니메이션, 7: 엔터테인먼트, 8: 음악, 9: 인물 블로그, 10: 동물, 11: 자동차, 12: 게임, 13: 코미디, 14: 뉴스 정치, 15: 봉사활동\n",
    "\n",
    "2) 선택한 카테고리 순위를 크롤링 -> 개별 페이지 URL을 추출한다. --> Done\n",
    "\n",
    "3) 추출한 URL을 개별 페이지 크롤링에 전달한다. --> Done\n"
   ]
  },
  {
   "cell_type": "code",
   "execution_count": 411,
   "id": "9dc6a8fb",
   "metadata": {
    "ExecuteTime": {
     "end_time": "2022-06-26T20:00:29.557881Z",
     "start_time": "2022-06-26T20:00:29.538895Z"
    }
   },
   "outputs": [],
   "source": [
    "# 크롤링 정보를 저장할 빈 DataFrame 생성\n",
    "final_df = pd.DataFrame(columns=['유튜버', '유튜브가입일', '구독자', '조회수', '동영상', '누적동영상수', '유튜브 수익 예측', '라이브 수입', '정보획득일'])\n"
   ]
  },
  {
   "cell_type": "code",
   "execution_count": 412,
   "id": "36e37e28",
   "metadata": {
    "ExecuteTime": {
     "end_time": "2022-06-26T20:00:36.706667Z",
     "start_time": "2022-06-26T20:00:31.740319Z"
    }
   },
   "outputs": [
    {
     "name": "stdout",
     "output_type": "stream",
     "text": [
      "\n",
      "카테고리 목록\n",
      "===================\n",
      "1: 교육\n",
      "2: 노하우 스타일\n",
      "3: 스포츠\n",
      "4: 여행 이벤트\n",
      "5: 과학 기술\n",
      "6: 영화 애니메이션\n",
      "7: 엔터테인먼트\n",
      "8: 음악\n",
      "9: 인물 블로그\n",
      "10: 동물\n",
      "11: 자동차\n",
      "12: 게임\n",
      "13: 코미디\n",
      "14: 뉴스 정치\n",
      "15: 봉사활동\n",
      "===================\n",
      "\n",
      "크롤링 할 유튜브 카테고리 번호를 입력하세요.1\n",
      "교육 카테고리 크롤링을 시작합니다.\n"
     ]
    }
   ],
   "source": [
    "# 카테고리 선택\n",
    "\n",
    "print('''\n",
    "카테고리 목록\n",
    "===================\n",
    "1: 교육\n",
    "2: 노하우 스타일\n",
    "3: 스포츠\n",
    "4: 여행 이벤트\n",
    "5: 과학 기술\n",
    "6: 영화 애니메이션\n",
    "7: 엔터테인먼트\n",
    "8: 음악\n",
    "9: 인물 블로그\n",
    "10: 동물\n",
    "11: 자동차\n",
    "12: 게임\n",
    "13: 코미디\n",
    "14: 뉴스 정치\n",
    "15: 봉사활동\n",
    "===================\n",
    "''')\n",
    "cat_url = ['https://kr.noxinfluencer.com/youtube-channel-rank/top-100-kr-education-youtuber-sorted-by-growth-weekly',\n",
    "'https://kr.noxinfluencer.com/youtube-channel-rank/top-100-kr-howto%20%26%20style-youtuber-sorted-by-growth-weekly',\n",
    "'https://kr.noxinfluencer.com/youtube-channel-rank/top-100-kr-sports-youtuber-sorted-by-growth-weekly',\n",
    "'https://kr.noxinfluencer.com/youtube-channel-rank/top-100-kr-travel%20%26%20events-youtuber-sorted-by-growth-weekly',\n",
    "'https://kr.noxinfluencer.com/youtube-channel-rank/top-100-kr-science%20%26%20technology-youtuber-sorted-by-growth-weekly',\n",
    "'https://kr.noxinfluencer.com/youtube-channel-rank/top-100-kr-film%20%26%20animation-youtuber-sorted-by-growth-weekly',\n",
    "'https://kr.noxinfluencer.com/youtube-channel-rank/top-100-kr-entertainment-youtuber-sorted-by-growth-weekly',\n",
    "'https://kr.noxinfluencer.com/youtube-channel-rank/top-100-kr-music-youtuber-sorted-by-growth-weekly',\n",
    "'https://kr.noxinfluencer.com/youtube-channel-rank/top-100-kr-people%20%26%20blogs-youtuber-sorted-by-growth-weekly',\n",
    "'https://kr.noxinfluencer.com/youtube-channel-rank/top-100-kr-pets%20%26%20animals-youtuber-sorted-by-growth-weekly',\n",
    "'https://kr.noxinfluencer.com/youtube-channel-rank/top-100-kr-autos%20%26%20vehicles-youtuber-sorted-by-growth-weekly',\n",
    "'https://kr.noxinfluencer.com/youtube-channel-rank/top-100-kr-gaming-youtuber-sorted-by-growth-weekly',\n",
    "'https://kr.noxinfluencer.com/youtube-channel-rank/top-100-kr-comedy-youtuber-sorted-by-growth-weekly',\n",
    "'https://kr.noxinfluencer.com/youtube-channel-rank/top-100-kr-news%20%26%20politics-youtuber-sorted-by-growth-weekly',\n",
    "'https://kr.noxinfluencer.com/youtube-channel-rank/top-100-kr-nonprofits%20%26%20activism-youtuber-sorted-by-growth-weekly']\n",
    "\n",
    "category = ['교육', '노하우 스타일', '스포츠', '여행 이벤트', '과학 기술', '영화 애니메이션', '엔터테인먼트', '음악', '인물 블로그', '동물', \n",
    "'자동차', '게임', '코미디', '뉴스 정치', '봉사활동']\n",
    "\n",
    "menu_num = int(input('크롤링 할 유튜브 카테고리 번호를 입력하세요.'))\n",
    "\n",
    "print(f'{category[menu_num-1]} 카테고리 크롤링을 시작합니다.')"
   ]
  },
  {
   "cell_type": "code",
   "execution_count": 413,
   "id": "8307ba17",
   "metadata": {
    "ExecuteTime": {
     "end_time": "2022-06-26T20:00:45.857418Z",
     "start_time": "2022-06-26T20:00:39.870645Z"
    }
   },
   "outputs": [
    {
     "name": "stdout",
     "output_type": "stream",
     "text": [
      "\n"
     ]
    },
    {
     "name": "stderr",
     "output_type": "stream",
     "text": [
      "[WDM] - ====== WebDriver manager ======\n",
      "[WDM] - Current google-chrome version is 102.0.5005\n",
      "[WDM] - Get LATEST chromedriver version for 102.0.5005 google-chrome\n",
      "[WDM] - Driver [C:\\Users\\rabie\\.wdm\\drivers\\chromedriver\\win32\\102.0.5005.61\\chromedriver.exe] found in cache\n"
     ]
    }
   ],
   "source": [
    "# 셀레니움 사용을 위해 크롬 드라이버 생성한다.\n",
    "\n",
    "driver = set_chrome_driver()"
   ]
  },
  {
   "cell_type": "code",
   "execution_count": 414,
   "id": "0c839205",
   "metadata": {
    "ExecuteTime": {
     "end_time": "2022-06-26T20:02:05.949858Z",
     "start_time": "2022-06-26T20:01:07.062406Z"
    }
   },
   "outputs": [
    {
     "name": "stdout",
     "output_type": "stream",
     "text": [
      "https://kr.noxinfluencer.com/youtube/channel/UClO3Y9xjoWK7sDD8FuqbtTQ 페이지를 크롤링 합니다.\n",
      "https://kr.noxinfluencer.com/youtube/channel/UCKaEKEiswhc9gYL-cwrC49w 페이지를 크롤링 합니다.\n",
      "https://kr.noxinfluencer.com/youtube/channel/UCOXr057Ke81U9BNpsulJA5w 페이지를 크롤링 합니다.\n"
     ]
    }
   ],
   "source": [
    "# Request & Soup 객체 생성\n",
    "resp = requests.get(cat_url[menu_num-1])\n",
    "html = BeautifulSoup(resp.text, 'html.parser')\n",
    "\n",
    "# 개별_페이지_크롤링(page_url), 크롤링 갯수 3개로 한정\n",
    "\n",
    "for page in html.select('a.clearfix')[:3]:\n",
    "    page_url = page.attrs['href']\n",
    "    url = nox_site + page_url\n",
    "    print(f'{url} 페이지를 크롤링 합니다.')\n",
    "    final_df = pd.concat([final_df, one_youtube_crawl(url)])\n",
    "    "
   ]
  },
  {
   "cell_type": "markdown",
   "id": "60bc269e",
   "metadata": {},
   "source": [
    "## 셀레니움을 이용, 개별 페이지 크롤링 --> Done\n",
    "\n",
    "순위 정보에서 얻은 URL을 이용\n",
    "셀레니움을 이용해서 유튜버 개별 페이지에 있는 '유튜브 채널 통계표'를 크롤링\n",
    "유튜버 개별 데이터프레임으로 만든다."
   ]
  },
  {
   "cell_type": "code",
   "execution_count": 410,
   "id": "168e3971",
   "metadata": {
    "ExecuteTime": {
     "end_time": "2022-06-26T19:51:58.488380Z",
     "start_time": "2022-06-26T19:51:58.451477Z"
    }
   },
   "outputs": [],
   "source": [
    "def one_youtube_crawl(url):\n",
    "\n",
    "    # 셀레니움으로 유튜버 개별 페이지 URL로 이동\n",
    "    driver.get(url)\n",
    "\n",
    "\n",
    "    # 유튜브 채널 통계표 '30일' 클릭해서 정보를 불러온다.\n",
    "    time.sleep(6)\n",
    "    driver.find_element(by='xpath', value='//*[@id=\"tab-channel\"]/div[2]/div[1]/div/span[3]').click()\n",
    "\n",
    "\n",
    "    # response 얻고 BeautifulSoup 객체로 변환\n",
    "    time.sleep(3)\n",
    "    resp = driver.page_source\n",
    "    html = BeautifulSoup(resp, 'html.parser')\n",
    "\n",
    "\n",
    "    # 유튜버 이름, 유튜브 가입일, 누적동영상 갯수, 정보획득일자 를 가져온다.\n",
    "\n",
    "    username = html.select('span.username')[0].text  # 유튜버 이름\n",
    "    start_date = html.select('p.pull-right.item-value')[0].text.strip() # 유튜브 가입일\n",
    "    movie_count_cum = html.select('span.strong')[3].text.strip() # 정보획득일 현재까지 누적된 동영상 갯수\n",
    "    info_date = html.select('span.refresh-text')[0].text.split()[2] + ' ' + html.select('span.refresh-text')[0].text.split()[3] # 정보를 크롤링한 날짜\n",
    "\n",
    "\n",
    "    # 유튜브 통계표를 긁어서 데이터프레임에 저장한다.\n",
    "\n",
    "    data_list = [data.text.strip() for data in html.select('table.tabla-ui-content tbody tr td')]\n",
    "    data = np.array(data_list).reshape(-1, 6)\n",
    "    youtube_stat = pd.DataFrame(data, columns=column)\n",
    "\n",
    "\n",
    "    # 데이터프레임에 컬럼을 추가. 컬럼 : '유튜버', '유튜브 가입일', '누적동영상수', '정보획득일'\n",
    "\n",
    "    youtube_stat['유튜버'] = username\n",
    "    youtube_stat['유튜브가입일'] = start_date\n",
    "    youtube_stat['누적동영상수'] = movie_count_cum\n",
    "    youtube_stat['정보획득일'] = info_date\n",
    "\n",
    "\n",
    "    # 날짜 컬럼을 인덱스로 변경\n",
    "\n",
    "    youtube_stat.set_index('날짜', inplace=True)\n",
    "\n",
    "\n",
    "    # 구독자 - 증감량, 조회수-증감량을 분리 후 1단위로 변환하여 구독자, 조회수에 저장한다.\n",
    "\n",
    "    youtube_stat['구독자'] = youtube_stat[youtube_stat['구독자'].str.contains('만')==True]['구독자'].apply(lambda x: str(int(float(x.split(sep='만')[0])*10000)))\n",
    "    youtube_stat['조회수'] = youtube_stat[youtube_stat['조회수'].str.contains('만')==True]['조회수'].apply(lambda x: str(int(float(x.split(sep='만')[0])*10000)))\n",
    "\n",
    "\n",
    "    # '동영상' 컬럼에 '+', '--'를 없앤다.\n",
    "\n",
    "    youtube_stat['동영상'] = youtube_stat['동영상'].apply(lambda x: x.replace('+', ''))\n",
    "    youtube_stat['동영상'] = youtube_stat['동영상'].apply(lambda x: x.replace('--', '0'))\n",
    "\n",
    "\n",
    "    # '구독자', '조회수', '동영상', '누적동영상수' 컬럼을 int로 타입캐스트\n",
    "\n",
    "    youtube_stat['구독자'] = youtube_stat['구독자'].astype(int)\n",
    "    youtube_stat['조회수'] = youtube_stat['조회수'].astype(int)\n",
    "    youtube_stat['동영상'] = youtube_stat['동영상'].astype(int)\n",
    "    youtube_stat['누적동영상수'] = youtube_stat['누적동영상수'].astype(int)\n",
    "\n",
    "\n",
    "    # 컬럼 순서 조정, 개별 페이지 크롤링 완료\n",
    "\n",
    "    youtube_stat = youtube_stat[['유튜버', '유튜브가입일', '구독자', '조회수', '동영상', '누적동영상수', '유튜브 수익 예측', '라이브 수입', '정보획득일']]\n",
    "\n",
    "\n",
    "    # (나중에 필요하면)'정보획득일' 컬럼을 datetime 으로 타입캐스트 \n",
    "\n",
    "\n",
    "    # youtube 에서 직접 채널소개글 가져오기 (연락처 정보를 찾아내자.)\n",
    "\n",
    "    url_yt = page_url.replace('/youtube', 'https://www.youtube.com') + '/about'\n",
    "\n",
    "    driver.get(url_yt)\n",
    "    resp_yt = driver.page_source\n",
    "    html_yt = BeautifulSoup(resp_yt, 'html.parser')\n",
    "    user_description = html_yt.select('yt-formatted-string#description')[0].text.replace('\\n', '').replace('  ', '') # 유튜버 소개\n",
    "\n",
    "    # 데이터프레임에 '채널설명' 컬럼 추가\n",
    "    youtube_stat['채널설명'] = user_description\n",
    "    \n",
    "    return youtube_stat\n"
   ]
  },
  {
   "cell_type": "markdown",
   "id": "89d8634d",
   "metadata": {},
   "source": [
    "## Concat 완료한 DataFrame 탐색 --> 진행중\n",
    "\n",
    "    - 인기 급상승 유튜버 30일 평균 동영상 업로드 수\n",
    "    - 랭크된 유튜버의 30일간 구독자 증감율"
   ]
  },
  {
   "cell_type": "code",
   "execution_count": 415,
   "id": "dfd9276d",
   "metadata": {
    "ExecuteTime": {
     "end_time": "2022-06-26T20:02:17.393945Z",
     "start_time": "2022-06-26T20:02:17.363028Z"
    }
   },
   "outputs": [
    {
     "name": "stdout",
     "output_type": "stream",
     "text": [
      "<class 'pandas.core.frame.DataFrame'>\n",
      "Index: 87 entries, 2022-05-29 to 2022-06-26\n",
      "Data columns (total 10 columns):\n",
      " #   Column     Non-Null Count  Dtype \n",
      "---  ------     --------------  ----- \n",
      " 0   유튜버        87 non-null     object\n",
      " 1   유튜브가입일     87 non-null     object\n",
      " 2   구독자        87 non-null     object\n",
      " 3   조회수        87 non-null     object\n",
      " 4   동영상        87 non-null     object\n",
      " 5   누적동영상수     87 non-null     object\n",
      " 6   유튜브 수익 예측  87 non-null     object\n",
      " 7   라이브 수입     87 non-null     object\n",
      " 8   정보획득일      87 non-null     object\n",
      " 9   채널설명       87 non-null     object\n",
      "dtypes: object(10)\n",
      "memory usage: 7.5+ KB\n"
     ]
    }
   ],
   "source": [
    "final_df.info()"
   ]
  },
  {
   "cell_type": "code",
   "execution_count": 418,
   "id": "33f64269",
   "metadata": {
    "ExecuteTime": {
     "end_time": "2022-06-26T20:03:01.277357Z",
     "start_time": "2022-06-26T20:03:01.233474Z"
    }
   },
   "outputs": [
    {
     "data": {
      "text/html": [
       "<div>\n",
       "<style scoped>\n",
       "    .dataframe tbody tr th:only-of-type {\n",
       "        vertical-align: middle;\n",
       "    }\n",
       "\n",
       "    .dataframe tbody tr th {\n",
       "        vertical-align: top;\n",
       "    }\n",
       "\n",
       "    .dataframe thead th {\n",
       "        text-align: right;\n",
       "    }\n",
       "</style>\n",
       "<table border=\"1\" class=\"dataframe\">\n",
       "  <thead>\n",
       "    <tr style=\"text-align: right;\">\n",
       "      <th></th>\n",
       "      <th>유튜버</th>\n",
       "      <th>유튜브가입일</th>\n",
       "      <th>구독자</th>\n",
       "      <th>조회수</th>\n",
       "      <th>동영상</th>\n",
       "      <th>누적동영상수</th>\n",
       "      <th>유튜브 수익 예측</th>\n",
       "      <th>라이브 수입</th>\n",
       "      <th>정보획득일</th>\n",
       "      <th>채널설명</th>\n",
       "    </tr>\n",
       "  </thead>\n",
       "  <tbody>\n",
       "    <tr>\n",
       "      <th>2022-05-29</th>\n",
       "      <td>한국가스공사</td>\n",
       "      <td>2016-01-06</td>\n",
       "      <td>10100</td>\n",
       "      <td>5226700</td>\n",
       "      <td>0</td>\n",
       "      <td>245</td>\n",
       "      <td>--</td>\n",
       "      <td>--</td>\n",
       "      <td>2022-06-26 23:17:23</td>\n",
       "      <td>더 좋은 세상을 만드는 ㄱㅅㄱㅅ (가스공사)</td>\n",
       "    </tr>\n",
       "    <tr>\n",
       "      <th>2022-05-30</th>\n",
       "      <td>한국가스공사</td>\n",
       "      <td>2016-01-06</td>\n",
       "      <td>10100</td>\n",
       "      <td>5227300</td>\n",
       "      <td>1</td>\n",
       "      <td>245</td>\n",
       "      <td>￦ 1159 - ￦ 2016</td>\n",
       "      <td>--</td>\n",
       "      <td>2022-06-26 23:17:23</td>\n",
       "      <td>더 좋은 세상을 만드는 ㄱㅅㄱㅅ (가스공사)</td>\n",
       "    </tr>\n",
       "    <tr>\n",
       "      <th>2022-05-31</th>\n",
       "      <td>한국가스공사</td>\n",
       "      <td>2016-01-06</td>\n",
       "      <td>10100</td>\n",
       "      <td>5228000</td>\n",
       "      <td>0</td>\n",
       "      <td>245</td>\n",
       "      <td>￦ 1493 - ￦ 2596</td>\n",
       "      <td>--</td>\n",
       "      <td>2022-06-26 23:17:23</td>\n",
       "      <td>더 좋은 세상을 만드는 ㄱㅅㄱㅅ (가스공사)</td>\n",
       "    </tr>\n",
       "    <tr>\n",
       "      <th>2022-06-01</th>\n",
       "      <td>한국가스공사</td>\n",
       "      <td>2016-01-06</td>\n",
       "      <td>10100</td>\n",
       "      <td>5228500</td>\n",
       "      <td>0</td>\n",
       "      <td>245</td>\n",
       "      <td>￦ 942.95 - ￦ 1640</td>\n",
       "      <td>--</td>\n",
       "      <td>2022-06-26 23:17:23</td>\n",
       "      <td>더 좋은 세상을 만드는 ㄱㅅㄱㅅ (가스공사)</td>\n",
       "    </tr>\n",
       "    <tr>\n",
       "      <th>2022-06-02</th>\n",
       "      <td>한국가스공사</td>\n",
       "      <td>2016-01-06</td>\n",
       "      <td>10200</td>\n",
       "      <td>5229100</td>\n",
       "      <td>0</td>\n",
       "      <td>245</td>\n",
       "      <td>￦ 1122 - ￦ 1951</td>\n",
       "      <td>--</td>\n",
       "      <td>2022-06-26 23:17:23</td>\n",
       "      <td>더 좋은 세상을 만드는 ㄱㅅㄱㅅ (가스공사)</td>\n",
       "    </tr>\n",
       "  </tbody>\n",
       "</table>\n",
       "</div>"
      ],
      "text/plain": [
       "               유튜버      유튜브가입일    구독자      조회수 동영상 누적동영상수          유튜브 수익 예측  \\\n",
       "2022-05-29  한국가스공사  2016-01-06  10100  5226700   0    245                 --   \n",
       "2022-05-30  한국가스공사  2016-01-06  10100  5227300   1    245    ￦ 1159 - ￦ 2016   \n",
       "2022-05-31  한국가스공사  2016-01-06  10100  5228000   0    245    ￦ 1493 - ￦ 2596   \n",
       "2022-06-01  한국가스공사  2016-01-06  10100  5228500   0    245  ￦ 942.95 - ￦ 1640   \n",
       "2022-06-02  한국가스공사  2016-01-06  10200  5229100   0    245    ￦ 1122 - ￦ 1951   \n",
       "\n",
       "           라이브 수입                정보획득일                      채널설명  \n",
       "2022-05-29     --  2022-06-26 23:17:23  더 좋은 세상을 만드는 ㄱㅅㄱㅅ (가스공사)  \n",
       "2022-05-30     --  2022-06-26 23:17:23  더 좋은 세상을 만드는 ㄱㅅㄱㅅ (가스공사)  \n",
       "2022-05-31     --  2022-06-26 23:17:23  더 좋은 세상을 만드는 ㄱㅅㄱㅅ (가스공사)  \n",
       "2022-06-01     --  2022-06-26 23:17:23  더 좋은 세상을 만드는 ㄱㅅㄱㅅ (가스공사)  \n",
       "2022-06-02     --  2022-06-26 23:17:23  더 좋은 세상을 만드는 ㄱㅅㄱㅅ (가스공사)  "
      ]
     },
     "execution_count": 418,
     "metadata": {},
     "output_type": "execute_result"
    }
   ],
   "source": [
    "final_df.head()"
   ]
  }
 ],
 "metadata": {
  "kernelspec": {
   "display_name": "Python 3 (ipykernel)",
   "language": "python",
   "name": "python3"
  },
  "language_info": {
   "codemirror_mode": {
    "name": "ipython",
    "version": 3
   },
   "file_extension": ".py",
   "mimetype": "text/x-python",
   "name": "python",
   "nbconvert_exporter": "python",
   "pygments_lexer": "ipython3",
   "version": "3.8.12"
  },
  "toc": {
   "base_numbering": 1,
   "nav_menu": {},
   "number_sections": true,
   "sideBar": true,
   "skip_h1_title": false,
   "title_cell": "Table of Contents",
   "title_sidebar": "Contents",
   "toc_cell": false,
   "toc_position": {},
   "toc_section_display": true,
   "toc_window_display": false
  },
  "varInspector": {
   "cols": {
    "lenName": 16,
    "lenType": 16,
    "lenVar": 40
   },
   "kernels_config": {
    "python": {
     "delete_cmd_postfix": "",
     "delete_cmd_prefix": "del ",
     "library": "var_list.py",
     "varRefreshCmd": "print(var_dic_list())"
    },
    "r": {
     "delete_cmd_postfix": ") ",
     "delete_cmd_prefix": "rm(",
     "library": "var_list.r",
     "varRefreshCmd": "cat(var_dic_list()) "
    }
   },
   "types_to_exclude": [
    "module",
    "function",
    "builtin_function_or_method",
    "instance",
    "_Feature"
   ],
   "window_display": false
  }
 },
 "nbformat": 4,
 "nbformat_minor": 5
}
